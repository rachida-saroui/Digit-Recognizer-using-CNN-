{
 "cells": [
  {
   "cell_type": "code",
   "execution_count": 1,
   "id": "0eb2dfae",
   "metadata": {
    "_cell_guid": "b1076dfc-b9ad-4769-8c92-a6c4dae69d19",
    "_uuid": "8f2839f25d086af736a60e9eeb907d3b93b6e0e5",
    "execution": {
     "iopub.execute_input": "2022-03-27T00:03:59.373196Z",
     "iopub.status.busy": "2022-03-27T00:03:59.372442Z",
     "iopub.status.idle": "2022-03-27T00:03:59.383895Z",
     "shell.execute_reply": "2022-03-27T00:03:59.384549Z",
     "shell.execute_reply.started": "2022-03-26T23:39:01.784333Z"
    },
    "papermill": {
     "duration": 0.040754,
     "end_time": "2022-03-27T00:03:59.384861",
     "exception": false,
     "start_time": "2022-03-27T00:03:59.344107",
     "status": "completed"
    },
    "tags": []
   },
   "outputs": [
    {
     "name": "stdout",
     "output_type": "stream",
     "text": [
      "/kaggle/input/digit-recognizer/sample_submission.csv\n",
      "/kaggle/input/digit-recognizer/train.csv\n",
      "/kaggle/input/digit-recognizer/test.csv\n"
     ]
    }
   ],
   "source": [
    "# This Python 3 environment comes with many helpful analytics libraries installed\n",
    "# It is defined by the kaggle/python Docker image: https://github.com/kaggle/docker-python\n",
    "# For example, here's several helpful packages to load\n",
    "\n",
    "import numpy as np # linear algebra\n",
    "import pandas as pd # data processing, CSV file I/O (e.g. pd.read_csv)\n",
    "\n",
    "# Input data files are available in the read-only \"../input/\" directory\n",
    "# For example, running this (by clicking run or pressing Shift+Enter) will list all files under the input directory\n",
    "\n",
    "import os\n",
    "for dirname, _, filenames in os.walk('/kaggle/input'):\n",
    "    for filename in filenames:\n",
    "        print(os.path.join(dirname, filename))\n",
    "\n",
    "# You can write up to 20GB to the current directory (/kaggle/working/) that gets preserved as output when you create a version using \"Save & Run All\" \n",
    "# You can also write temporary files to /kaggle/temp/, but they won't be saved outside of the current session"
   ]
  },
  {
   "cell_type": "markdown",
   "id": "b44c8189",
   "metadata": {
    "papermill": {
     "duration": 0.015077,
     "end_time": "2022-03-27T00:03:59.416680",
     "exception": false,
     "start_time": "2022-03-27T00:03:59.401603",
     "status": "completed"
    },
    "tags": []
   },
   "source": [
    "# Importing the libraries"
   ]
  },
  {
   "cell_type": "code",
   "execution_count": 2,
   "id": "97b59e7f",
   "metadata": {
    "execution": {
     "iopub.execute_input": "2022-03-27T00:03:59.450595Z",
     "iopub.status.busy": "2022-03-27T00:03:59.449982Z",
     "iopub.status.idle": "2022-03-27T00:04:04.558985Z",
     "shell.execute_reply": "2022-03-27T00:04:04.558001Z",
     "shell.execute_reply.started": "2022-03-26T23:39:10.274128Z"
    },
    "papermill": {
     "duration": 5.127666,
     "end_time": "2022-03-27T00:04:04.559130",
     "exception": false,
     "start_time": "2022-03-27T00:03:59.431464",
     "status": "completed"
    },
    "tags": []
   },
   "outputs": [],
   "source": [
    "from keras.utils import np_utils\n",
    "from keras.callbacks import ModelCheckpoint, EarlyStopping\n",
    "from tensorflow.keras import datasets, layers, models"
   ]
  },
  {
   "cell_type": "markdown",
   "id": "49861a88",
   "metadata": {
    "papermill": {
     "duration": 0.016092,
     "end_time": "2022-03-27T00:04:04.591143",
     "exception": false,
     "start_time": "2022-03-27T00:04:04.575051",
     "status": "completed"
    },
    "tags": []
   },
   "source": [
    "## Loading the data"
   ]
  },
  {
   "cell_type": "code",
   "execution_count": 3,
   "id": "7a0f7b17",
   "metadata": {
    "execution": {
     "iopub.execute_input": "2022-03-27T00:04:04.627078Z",
     "iopub.status.busy": "2022-03-27T00:04:04.626238Z",
     "iopub.status.idle": "2022-03-27T00:04:09.425869Z",
     "shell.execute_reply": "2022-03-27T00:04:09.424963Z",
     "shell.execute_reply.started": "2022-03-26T23:39:15.822187Z"
    },
    "papermill": {
     "duration": 4.819462,
     "end_time": "2022-03-27T00:04:09.426015",
     "exception": false,
     "start_time": "2022-03-27T00:04:04.606553",
     "status": "completed"
    },
    "tags": []
   },
   "outputs": [],
   "source": [
    "pd_train = pd.read_csv('../input/digit-recognizer/train.csv')\n",
    "pd_test = pd.read_csv('../input/digit-recognizer/test.csv')\n",
    "\n",
    "x_train = pd_train.drop(['label'], axis=1)\n",
    "y_train = pd_train['label']\n",
    "x_test = pd_test"
   ]
  },
  {
   "cell_type": "markdown",
   "id": "c1018506",
   "metadata": {
    "papermill": {
     "duration": 0.014671,
     "end_time": "2022-03-27T00:04:09.455785",
     "exception": false,
     "start_time": "2022-03-27T00:04:09.441114",
     "status": "completed"
    },
    "tags": []
   },
   "source": [
    "# Preprocessing "
   ]
  },
  {
   "cell_type": "code",
   "execution_count": 4,
   "id": "34480109",
   "metadata": {
    "execution": {
     "iopub.execute_input": "2022-03-27T00:04:09.496581Z",
     "iopub.status.busy": "2022-03-27T00:04:09.495594Z",
     "iopub.status.idle": "2022-03-27T00:04:09.646510Z",
     "shell.execute_reply": "2022-03-27T00:04:09.646945Z",
     "shell.execute_reply.started": "2022-03-26T23:39:24.156247Z"
    },
    "papermill": {
     "duration": 0.176476,
     "end_time": "2022-03-27T00:04:09.647108",
     "exception": false,
     "start_time": "2022-03-27T00:04:09.470632",
     "status": "completed"
    },
    "tags": []
   },
   "outputs": [],
   "source": [
    "x_train = x_train / 255.0\n",
    "x_test = x_test / 255.0"
   ]
  },
  {
   "cell_type": "markdown",
   "id": "0ee4fe32",
   "metadata": {
    "papermill": {
     "duration": 0.015521,
     "end_time": "2022-03-27T00:04:09.678012",
     "exception": false,
     "start_time": "2022-03-27T00:04:09.662491",
     "status": "completed"
    },
    "tags": []
   },
   "source": [
    "## Linear dimensionality reduction using Singular Value Decomposition of the data"
   ]
  },
  {
   "cell_type": "code",
   "execution_count": 5,
   "id": "1d48f71b",
   "metadata": {
    "execution": {
     "iopub.execute_input": "2022-03-27T00:04:09.712767Z",
     "iopub.status.busy": "2022-03-27T00:04:09.712087Z",
     "iopub.status.idle": "2022-03-27T00:04:10.345576Z",
     "shell.execute_reply": "2022-03-27T00:04:10.345076Z",
     "shell.execute_reply.started": "2022-03-26T23:39:27.231835Z"
    },
    "papermill": {
     "duration": 0.652875,
     "end_time": "2022-03-27T00:04:10.345712",
     "exception": false,
     "start_time": "2022-03-27T00:04:09.692837",
     "status": "completed"
    },
    "tags": []
   },
   "outputs": [],
   "source": [
    "from sklearn.decomposition import PCA\n",
    "\n",
    "def run_PCA(X, num_components):\n",
    "    pca = PCA(n_components=num_components)\n",
    "    pca.fit(X)\n",
    "    pca_array = pca.transform(X)\n",
    "    return pca, pca_array"
   ]
  },
  {
   "cell_type": "code",
   "execution_count": 6,
   "id": "88a7048d",
   "metadata": {
    "execution": {
     "iopub.execute_input": "2022-03-27T00:04:10.381676Z",
     "iopub.status.busy": "2022-03-27T00:04:10.380851Z",
     "iopub.status.idle": "2022-03-27T00:04:10.604047Z",
     "shell.execute_reply": "2022-03-27T00:04:10.603578Z",
     "shell.execute_reply.started": "2022-03-26T23:39:32.836510Z"
    },
    "papermill": {
     "duration": 0.243327,
     "end_time": "2022-03-27T00:04:10.604174",
     "exception": false,
     "start_time": "2022-03-27T00:04:10.360847",
     "status": "completed"
    },
    "tags": []
   },
   "outputs": [],
   "source": [
    "from sklearn.model_selection import train_test_split\n",
    "\n",
    "X_train, X_val, Y_train, Y_val = train_test_split(x_train, y_train, test_size=0.2, shuffle=True, stratify=y_train, random_state=34)"
   ]
  },
  {
   "cell_type": "markdown",
   "id": "ec6f05aa",
   "metadata": {
    "papermill": {
     "duration": 0.014695,
     "end_time": "2022-03-27T00:04:10.633944",
     "exception": false,
     "start_time": "2022-03-27T00:04:10.619249",
     "status": "completed"
    },
    "tags": []
   },
   "source": [
    "# Building neural network"
   ]
  },
  {
   "cell_type": "code",
   "execution_count": 7,
   "id": "0dc3a057",
   "metadata": {
    "execution": {
     "iopub.execute_input": "2022-03-27T00:04:10.670850Z",
     "iopub.status.busy": "2022-03-27T00:04:10.669777Z",
     "iopub.status.idle": "2022-03-27T00:04:10.768662Z",
     "shell.execute_reply": "2022-03-27T00:04:10.768164Z",
     "shell.execute_reply.started": "2022-03-26T23:39:38.176559Z"
    },
    "papermill": {
     "duration": 0.119206,
     "end_time": "2022-03-27T00:04:10.768799",
     "exception": false,
     "start_time": "2022-03-27T00:04:10.649593",
     "status": "completed"
    },
    "tags": []
   },
   "outputs": [],
   "source": [
    "X_train = np.array(X_train).reshape(-1,28,28,1)\n",
    "X_val = np.array(X_val).reshape(-1,28,28,1)\n",
    "Y_train = np_utils.to_categorical(np.array(Y_train))\n",
    "Y_val = np_utils.to_categorical(np.array(Y_val))"
   ]
  },
  {
   "cell_type": "code",
   "execution_count": 8,
   "id": "d7be0437",
   "metadata": {
    "execution": {
     "iopub.execute_input": "2022-03-27T00:04:10.812259Z",
     "iopub.status.busy": "2022-03-27T00:04:10.811420Z",
     "iopub.status.idle": "2022-03-27T00:04:13.046219Z",
     "shell.execute_reply": "2022-03-27T00:04:13.046699Z",
     "shell.execute_reply.started": "2022-03-26T23:59:37.865207Z"
    },
    "papermill": {
     "duration": 2.262921,
     "end_time": "2022-03-27T00:04:13.046868",
     "exception": false,
     "start_time": "2022-03-27T00:04:10.783947",
     "status": "completed"
    },
    "tags": []
   },
   "outputs": [
    {
     "name": "stderr",
     "output_type": "stream",
     "text": [
      "2022-03-27 00:04:10.881575: I tensorflow/stream_executor/cuda/cuda_gpu_executor.cc:937] successful NUMA node read from SysFS had negative value (-1), but there must be at least one NUMA node, so returning NUMA node zero\n",
      "2022-03-27 00:04:10.964771: I tensorflow/stream_executor/cuda/cuda_gpu_executor.cc:937] successful NUMA node read from SysFS had negative value (-1), but there must be at least one NUMA node, so returning NUMA node zero\n",
      "2022-03-27 00:04:10.965614: I tensorflow/stream_executor/cuda/cuda_gpu_executor.cc:937] successful NUMA node read from SysFS had negative value (-1), but there must be at least one NUMA node, so returning NUMA node zero\n",
      "2022-03-27 00:04:10.966837: I tensorflow/core/platform/cpu_feature_guard.cc:142] This TensorFlow binary is optimized with oneAPI Deep Neural Network Library (oneDNN) to use the following CPU instructions in performance-critical operations:  AVX2 AVX512F FMA\n",
      "To enable them in other operations, rebuild TensorFlow with the appropriate compiler flags.\n",
      "2022-03-27 00:04:10.968020: I tensorflow/stream_executor/cuda/cuda_gpu_executor.cc:937] successful NUMA node read from SysFS had negative value (-1), but there must be at least one NUMA node, so returning NUMA node zero\n",
      "2022-03-27 00:04:10.968696: I tensorflow/stream_executor/cuda/cuda_gpu_executor.cc:937] successful NUMA node read from SysFS had negative value (-1), but there must be at least one NUMA node, so returning NUMA node zero\n",
      "2022-03-27 00:04:10.969299: I tensorflow/stream_executor/cuda/cuda_gpu_executor.cc:937] successful NUMA node read from SysFS had negative value (-1), but there must be at least one NUMA node, so returning NUMA node zero\n",
      "2022-03-27 00:04:12.542546: I tensorflow/stream_executor/cuda/cuda_gpu_executor.cc:937] successful NUMA node read from SysFS had negative value (-1), but there must be at least one NUMA node, so returning NUMA node zero\n",
      "2022-03-27 00:04:12.543829: I tensorflow/stream_executor/cuda/cuda_gpu_executor.cc:937] successful NUMA node read from SysFS had negative value (-1), but there must be at least one NUMA node, so returning NUMA node zero\n",
      "2022-03-27 00:04:12.544887: I tensorflow/stream_executor/cuda/cuda_gpu_executor.cc:937] successful NUMA node read from SysFS had negative value (-1), but there must be at least one NUMA node, so returning NUMA node zero\n",
      "2022-03-27 00:04:12.545809: I tensorflow/core/common_runtime/gpu/gpu_device.cc:1510] Created device /job:localhost/replica:0/task:0/device:GPU:0 with 15403 MB memory:  -> device: 0, name: Tesla P100-PCIE-16GB, pci bus id: 0000:00:04.0, compute capability: 6.0\n"
     ]
    },
    {
     "name": "stdout",
     "output_type": "stream",
     "text": [
      "Model: \"sequential\"\n",
      "_________________________________________________________________\n",
      "Layer (type)                 Output Shape              Param #   \n",
      "=================================================================\n",
      "conv2d (Conv2D)              (None, 28, 28, 32)        832       \n",
      "_________________________________________________________________\n",
      "conv2d_1 (Conv2D)            (None, 28, 28, 32)        25632     \n",
      "_________________________________________________________________\n",
      "max_pooling2d (MaxPooling2D) (None, 14, 14, 32)        0         \n",
      "_________________________________________________________________\n",
      "batch_normalization (BatchNo (None, 14, 14, 32)        128       \n",
      "_________________________________________________________________\n",
      "dropout (Dropout)            (None, 14, 14, 32)        0         \n",
      "_________________________________________________________________\n",
      "conv2d_2 (Conv2D)            (None, 14, 14, 64)        18496     \n",
      "_________________________________________________________________\n",
      "conv2d_3 (Conv2D)            (None, 14, 14, 64)        36928     \n",
      "_________________________________________________________________\n",
      "max_pooling2d_1 (MaxPooling2 (None, 7, 7, 64)          0         \n",
      "_________________________________________________________________\n",
      "batch_normalization_1 (Batch (None, 7, 7, 64)          256       \n",
      "_________________________________________________________________\n",
      "dropout_1 (Dropout)          (None, 7, 7, 64)          0         \n",
      "_________________________________________________________________\n",
      "flatten (Flatten)            (None, 3136)              0         \n",
      "_________________________________________________________________\n",
      "dense (Dense)                (None, 256)               803072    \n",
      "_________________________________________________________________\n",
      "dropout_2 (Dropout)          (None, 256)               0         \n",
      "_________________________________________________________________\n",
      "batch_normalization_2 (Batch (None, 256)               1024      \n",
      "_________________________________________________________________\n",
      "dense_1 (Dense)              (None, 10)                2570      \n",
      "=================================================================\n",
      "Total params: 888,938\n",
      "Trainable params: 888,234\n",
      "Non-trainable params: 704\n",
      "_________________________________________________________________\n"
     ]
    }
   ],
   "source": [
    "model = models.Sequential()\n",
    "model.add(layers.Conv2D(filters = 32, kernel_size = (5,5),padding = 'Same', \n",
    "                 activation ='relu', input_shape = (28,28,1)))\n",
    "model.add(layers.Conv2D(filters = 32, kernel_size = (5,5),padding = 'Same', \n",
    "                 activation ='relu'))\n",
    "model.add(layers.MaxPool2D(pool_size=(2,2)))\n",
    "model.add(layers.BatchNormalization())\n",
    "model.add(layers.Dropout(0.25))\n",
    "model.add(layers.Conv2D(filters = 64, kernel_size = (3,3),padding = 'Same', \n",
    "                 activation ='relu'))\n",
    "model.add(layers.Conv2D(filters = 64, kernel_size = (3,3),padding = 'Same', \n",
    "                 activation ='relu'))\n",
    "model.add(layers.MaxPool2D(pool_size=(2,2), strides=(2,2)))\n",
    "model.add(layers.BatchNormalization())\n",
    "model.add(layers.Dropout(0.25))\n",
    "model.add(layers.Flatten())\n",
    "model.add(layers.Dense(256, activation = \"relu\"))\n",
    "model.add(layers.Dropout(0.5))\n",
    "model.add(layers.BatchNormalization())\n",
    "model.add(layers.Dense(10, activation = \"softmax\"))\n",
    "\n",
    "model.summary()"
   ]
  },
  {
   "cell_type": "code",
   "execution_count": 9,
   "id": "d349fd0f",
   "metadata": {
    "execution": {
     "iopub.execute_input": "2022-03-27T00:04:13.087557Z",
     "iopub.status.busy": "2022-03-27T00:04:13.084034Z",
     "iopub.status.idle": "2022-03-27T00:04:13.094703Z",
     "shell.execute_reply": "2022-03-27T00:04:13.094241Z",
     "shell.execute_reply.started": "2022-03-26T23:39:52.433410Z"
    },
    "papermill": {
     "duration": 0.032161,
     "end_time": "2022-03-27T00:04:13.094824",
     "exception": false,
     "start_time": "2022-03-27T00:04:13.062663",
     "status": "completed"
    },
    "tags": []
   },
   "outputs": [],
   "source": [
    "model.compile(loss='categorical_crossentropy',\n",
    "             optimizer='adam',\n",
    "             metrics=['accuracy'])"
   ]
  },
  {
   "cell_type": "code",
   "execution_count": 10,
   "id": "b845773f",
   "metadata": {
    "execution": {
     "iopub.execute_input": "2022-03-27T00:04:13.131210Z",
     "iopub.status.busy": "2022-03-27T00:04:13.130582Z",
     "iopub.status.idle": "2022-03-27T00:04:13.425891Z",
     "shell.execute_reply": "2022-03-27T00:04:13.425302Z",
     "shell.execute_reply.started": "2022-03-26T23:39:59.730290Z"
    },
    "papermill": {
     "duration": 0.315803,
     "end_time": "2022-03-27T00:04:13.426130",
     "exception": true,
     "start_time": "2022-03-27T00:04:13.110327",
     "status": "failed"
    },
    "tags": []
   },
   "outputs": [
    {
     "ename": "NameError",
     "evalue": "name 'checkpointer' is not defined",
     "output_type": "error",
     "traceback": [
      "\u001b[0;31m---------------------------------------------------------------------------\u001b[0m",
      "\u001b[0;31mNameError\u001b[0m                                 Traceback (most recent call last)",
      "\u001b[0;32m/tmp/ipykernel_25/3979952116.py\u001b[0m in \u001b[0;36m<module>\u001b[0;34m\u001b[0m\n\u001b[0;32m----> 1\u001b[0;31m \u001b[0mhistory\u001b[0m \u001b[0;34m=\u001b[0m \u001b[0mmodel\u001b[0m\u001b[0;34m.\u001b[0m\u001b[0mfit\u001b[0m\u001b[0;34m(\u001b[0m\u001b[0mX_train\u001b[0m\u001b[0;34m,\u001b[0m \u001b[0mY_train\u001b[0m\u001b[0;34m,\u001b[0m \u001b[0mvalidation_data\u001b[0m \u001b[0;34m=\u001b[0m \u001b[0;34m(\u001b[0m\u001b[0mX_val\u001b[0m\u001b[0;34m,\u001b[0m \u001b[0mY_val\u001b[0m\u001b[0;34m)\u001b[0m\u001b[0;34m,\u001b[0m \u001b[0mepochs\u001b[0m\u001b[0;34m=\u001b[0m\u001b[0;36m50\u001b[0m\u001b[0;34m,\u001b[0m \u001b[0mbatch_size\u001b[0m \u001b[0;34m=\u001b[0m \u001b[0;36m128\u001b[0m\u001b[0;34m,\u001b[0m \u001b[0mcallbacks\u001b[0m\u001b[0;34m=\u001b[0m\u001b[0;34m[\u001b[0m\u001b[0mcheckpointer\u001b[0m\u001b[0;34m]\u001b[0m\u001b[0;34m)\u001b[0m\u001b[0;34m\u001b[0m\u001b[0;34m\u001b[0m\u001b[0m\n\u001b[0m",
      "\u001b[0;31mNameError\u001b[0m: name 'checkpointer' is not defined"
     ]
    }
   ],
   "source": [
    "history = model.fit(X_train, Y_train, validation_data = (X_val, Y_val), epochs=50, batch_size = 128, callbacks=[checkpointer])"
   ]
  },
  {
   "cell_type": "markdown",
   "id": "28f21918",
   "metadata": {
    "papermill": {
     "duration": null,
     "end_time": null,
     "exception": null,
     "start_time": null,
     "status": "pending"
    },
    "tags": []
   },
   "source": [
    "## Submit"
   ]
  },
  {
   "cell_type": "code",
   "execution_count": null,
   "id": "742ae758",
   "metadata": {
    "execution": {
     "iopub.execute_input": "2022-03-26T23:42:22.879561Z",
     "iopub.status.busy": "2022-03-26T23:42:22.879221Z",
     "iopub.status.idle": "2022-03-26T23:42:22.946938Z",
     "shell.execute_reply": "2022-03-26T23:42:22.946182Z",
     "shell.execute_reply.started": "2022-03-26T23:42:22.879524Z"
    },
    "papermill": {
     "duration": null,
     "end_time": null,
     "exception": null,
     "start_time": null,
     "status": "pending"
    },
    "tags": []
   },
   "outputs": [],
   "source": [
    "X_test = np.array(x_test).reshape(-1,28,28,1)"
   ]
  },
  {
   "cell_type": "code",
   "execution_count": null,
   "id": "3ee4956a",
   "metadata": {
    "execution": {
     "iopub.execute_input": "2022-03-26T23:59:14.322400Z",
     "iopub.status.busy": "2022-03-26T23:59:14.322124Z",
     "iopub.status.idle": "2022-03-26T23:59:15.820354Z",
     "shell.execute_reply": "2022-03-26T23:59:15.819637Z",
     "shell.execute_reply.started": "2022-03-26T23:59:14.322369Z"
    },
    "papermill": {
     "duration": null,
     "end_time": null,
     "exception": null,
     "start_time": null,
     "status": "pending"
    },
    "tags": []
   },
   "outputs": [],
   "source": [
    "from keras.models import load_model\n",
    "y_pred = model.predict(X_test)\n",
    "y_pred = np.argmax(y_pred,1)\n",
    "pd_submit = pd.read_csv('../input/digit-recognizer/sample_submission.csv')\n",
    "pd_submit['Label'] = y_pred\n",
    "pd_submit.to_csv('submission.csv', header=True, index=False)"
   ]
  },
  {
   "cell_type": "code",
   "execution_count": null,
   "id": "46b01d8c",
   "metadata": {
    "execution": {
     "iopub.execute_input": "2022-03-26T23:59:22.227204Z",
     "iopub.status.busy": "2022-03-26T23:59:22.226414Z",
     "iopub.status.idle": "2022-03-26T23:59:22.238523Z",
     "shell.execute_reply": "2022-03-26T23:59:22.237682Z",
     "shell.execute_reply.started": "2022-03-26T23:59:22.227157Z"
    },
    "papermill": {
     "duration": null,
     "end_time": null,
     "exception": null,
     "start_time": null,
     "status": "pending"
    },
    "tags": []
   },
   "outputs": [],
   "source": [
    "pd_submit"
   ]
  }
 ],
 "metadata": {
  "kernelspec": {
   "display_name": "Python 3",
   "language": "python",
   "name": "python3"
  },
  "language_info": {
   "codemirror_mode": {
    "name": "ipython",
    "version": 3
   },
   "file_extension": ".py",
   "mimetype": "text/x-python",
   "name": "python",
   "nbconvert_exporter": "python",
   "pygments_lexer": "ipython3",
   "version": "3.7.12"
  },
  "papermill": {
   "default_parameters": {},
   "duration": 26.398873,
   "end_time": "2022-03-27T00:04:17.127808",
   "environment_variables": {},
   "exception": true,
   "input_path": "__notebook__.ipynb",
   "output_path": "__notebook__.ipynb",
   "parameters": {},
   "start_time": "2022-03-27T00:03:50.728935",
   "version": "2.3.3"
  }
 },
 "nbformat": 4,
 "nbformat_minor": 5
}
